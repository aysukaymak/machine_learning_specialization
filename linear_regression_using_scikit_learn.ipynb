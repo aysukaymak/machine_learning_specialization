{
 "cells": [
  {
   "cell_type": "markdown",
   "id": "43a1fe26-a33d-4b2d-a4bb-f333b362c506",
   "metadata": {},
   "source": [
    "# Linear Regression using [Scikit-Learn](https://scikit-learn.org/stable/index.html). "
   ]
  },
  {
   "cell_type": "code",
   "execution_count": 2,
   "id": "074fa206-84b7-4aa6-8448-63c00ad55391",
   "metadata": {},
   "outputs": [],
   "source": [
    "import numpy as np\n",
    "import matplotlib.pyplot as plt\n",
    "from sklearn.linear_model import SGDRegressor\n",
    "from sklearn .preprocessing import StandardScaler\n",
    "from lab_utils_multi import load_house_data\n",
    "from lab_utils_common import dlc\n",
    "np.set_printoptions(precision=2)\n",
    "plt.style.use('./deeplearning.mplstyle')"
   ]
  },
  {
   "cell_type": "markdown",
   "id": "a4e867b2-615c-4348-8e2e-8f0ef6114162",
   "metadata": {},
   "source": [
    "# Gradient Descent\n",
    "Scikit-learn has a gradient descent regression model [sklearn.linear_model.SGDRegressor](https://scikit-learn.org/stable/modules/generated/sklearn.linear_model.SGDRegressor.html#examples-using-sklearn-linear-model-sgdregressor).  Like your previous implementation of gradient descent, this model performs best with normalized inputs. [sklearn.preprocessing.StandardScaler](https://scikit-learn.org/stable/modules/generated/sklearn.preprocessing.StandardScaler.html#sklearn.preprocessing.StandardScaler) will perform z-score normalization as in a previous lab. Here it is referred to as 'standard score'."
   ]
  },
  {
   "cell_type": "markdown",
   "id": "d20d59e4-18c0-4bfe-9b70-31554cd66ecf",
   "metadata": {},
   "source": [
    "### Load the data set"
   ]
  },
  {
   "cell_type": "code",
   "execution_count": 3,
   "id": "0a650818-5b8d-492c-bafe-d088045981b1",
   "metadata": {},
   "outputs": [],
   "source": [
    "X_train, y_train=load_house_data()\n",
    "X_features=['size(sqft)','bedrooms','floors','age']"
   ]
  },
  {
   "cell_type": "code",
   "execution_count": 6,
   "id": "19de0547-5240-43ea-8bb1-91b7d064e879",
   "metadata": {},
   "outputs": [
    {
     "data": {
      "text/plain": [
       "(array([[1.24e+03, 3.00e+00, 1.00e+00, 6.40e+01],\n",
       "        [1.95e+03, 3.00e+00, 2.00e+00, 1.70e+01],\n",
       "        [1.72e+03, 3.00e+00, 2.00e+00, 4.20e+01],\n",
       "        [1.96e+03, 3.00e+00, 2.00e+00, 1.50e+01],\n",
       "        [1.31e+03, 2.00e+00, 1.00e+00, 1.40e+01],\n",
       "        [8.64e+02, 2.00e+00, 1.00e+00, 6.60e+01],\n",
       "        [1.84e+03, 3.00e+00, 1.00e+00, 1.70e+01],\n",
       "        [1.03e+03, 3.00e+00, 1.00e+00, 4.30e+01],\n",
       "        [3.19e+03, 4.00e+00, 2.00e+00, 8.70e+01],\n",
       "        [7.88e+02, 2.00e+00, 1.00e+00, 8.00e+01],\n",
       "        [1.20e+03, 2.00e+00, 2.00e+00, 1.70e+01],\n",
       "        [1.56e+03, 2.00e+00, 1.00e+00, 1.80e+01],\n",
       "        [1.43e+03, 3.00e+00, 1.00e+00, 2.00e+01],\n",
       "        [1.22e+03, 2.00e+00, 1.00e+00, 1.50e+01],\n",
       "        [1.09e+03, 2.00e+00, 1.00e+00, 6.40e+01],\n",
       "        [8.48e+02, 1.00e+00, 1.00e+00, 1.70e+01],\n",
       "        [1.68e+03, 3.00e+00, 2.00e+00, 2.30e+01],\n",
       "        [1.77e+03, 3.00e+00, 2.00e+00, 1.80e+01],\n",
       "        [1.04e+03, 3.00e+00, 1.00e+00, 4.40e+01],\n",
       "        [1.65e+03, 2.00e+00, 1.00e+00, 2.10e+01],\n",
       "        [1.09e+03, 2.00e+00, 1.00e+00, 3.50e+01],\n",
       "        [1.32e+03, 3.00e+00, 1.00e+00, 1.40e+01],\n",
       "        [1.59e+03, 0.00e+00, 1.00e+00, 2.00e+01],\n",
       "        [9.72e+02, 2.00e+00, 1.00e+00, 7.30e+01],\n",
       "        [1.10e+03, 3.00e+00, 1.00e+00, 3.70e+01],\n",
       "        [1.00e+03, 2.00e+00, 1.00e+00, 5.10e+01],\n",
       "        [9.04e+02, 3.00e+00, 1.00e+00, 5.50e+01],\n",
       "        [1.69e+03, 3.00e+00, 1.00e+00, 1.30e+01],\n",
       "        [1.07e+03, 2.00e+00, 1.00e+00, 1.00e+02],\n",
       "        [1.42e+03, 3.00e+00, 2.00e+00, 1.90e+01],\n",
       "        [1.16e+03, 3.00e+00, 1.00e+00, 5.20e+01],\n",
       "        [1.94e+03, 3.00e+00, 2.00e+00, 1.20e+01],\n",
       "        [1.22e+03, 2.00e+00, 2.00e+00, 7.40e+01],\n",
       "        [2.48e+03, 4.00e+00, 2.00e+00, 1.60e+01],\n",
       "        [1.20e+03, 2.00e+00, 1.00e+00, 1.80e+01],\n",
       "        [1.84e+03, 3.00e+00, 2.00e+00, 2.00e+01],\n",
       "        [1.85e+03, 3.00e+00, 2.00e+00, 5.70e+01],\n",
       "        [1.66e+03, 3.00e+00, 2.00e+00, 1.90e+01],\n",
       "        [1.10e+03, 2.00e+00, 2.00e+00, 9.70e+01],\n",
       "        [1.78e+03, 3.00e+00, 2.00e+00, 2.80e+01],\n",
       "        [2.03e+03, 4.00e+00, 2.00e+00, 4.50e+01],\n",
       "        [1.78e+03, 4.00e+00, 2.00e+00, 1.07e+02],\n",
       "        [1.07e+03, 2.00e+00, 1.00e+00, 1.00e+02],\n",
       "        [1.55e+03, 3.00e+00, 1.00e+00, 1.60e+01],\n",
       "        [1.95e+03, 3.00e+00, 2.00e+00, 1.60e+01],\n",
       "        [1.22e+03, 2.00e+00, 2.00e+00, 1.20e+01],\n",
       "        [1.62e+03, 3.00e+00, 1.00e+00, 1.60e+01],\n",
       "        [8.16e+02, 2.00e+00, 1.00e+00, 5.80e+01],\n",
       "        [1.35e+03, 3.00e+00, 1.00e+00, 2.10e+01],\n",
       "        [1.57e+03, 3.00e+00, 1.00e+00, 1.40e+01],\n",
       "        [1.49e+03, 3.00e+00, 1.00e+00, 5.70e+01],\n",
       "        [1.51e+03, 2.00e+00, 1.00e+00, 1.60e+01],\n",
       "        [1.10e+03, 3.00e+00, 1.00e+00, 2.70e+01],\n",
       "        [1.76e+03, 3.00e+00, 2.00e+00, 2.40e+01],\n",
       "        [1.21e+03, 2.00e+00, 1.00e+00, 1.40e+01],\n",
       "        [1.47e+03, 3.00e+00, 2.00e+00, 2.40e+01],\n",
       "        [1.77e+03, 3.00e+00, 2.00e+00, 8.40e+01],\n",
       "        [1.65e+03, 3.00e+00, 1.00e+00, 1.90e+01],\n",
       "        [1.03e+03, 3.00e+00, 1.00e+00, 6.00e+01],\n",
       "        [1.12e+03, 2.00e+00, 2.00e+00, 1.60e+01],\n",
       "        [1.15e+03, 3.00e+00, 1.00e+00, 6.20e+01],\n",
       "        [8.16e+02, 2.00e+00, 1.00e+00, 3.90e+01],\n",
       "        [1.04e+03, 3.00e+00, 1.00e+00, 2.50e+01],\n",
       "        [1.39e+03, 3.00e+00, 1.00e+00, 6.40e+01],\n",
       "        [1.60e+03, 3.00e+00, 2.00e+00, 2.90e+01],\n",
       "        [1.22e+03, 3.00e+00, 1.00e+00, 6.30e+01],\n",
       "        [1.07e+03, 2.00e+00, 1.00e+00, 1.00e+02],\n",
       "        [2.60e+03, 4.00e+00, 2.00e+00, 2.20e+01],\n",
       "        [1.43e+03, 3.00e+00, 1.00e+00, 5.90e+01],\n",
       "        [2.09e+03, 3.00e+00, 2.00e+00, 2.60e+01],\n",
       "        [1.79e+03, 4.00e+00, 2.00e+00, 4.90e+01],\n",
       "        [1.48e+03, 3.00e+00, 2.00e+00, 1.60e+01],\n",
       "        [1.04e+03, 3.00e+00, 1.00e+00, 2.50e+01],\n",
       "        [1.43e+03, 3.00e+00, 1.00e+00, 2.20e+01],\n",
       "        [1.16e+03, 3.00e+00, 1.00e+00, 5.30e+01],\n",
       "        [1.55e+03, 3.00e+00, 2.00e+00, 1.20e+01],\n",
       "        [1.98e+03, 3.00e+00, 2.00e+00, 2.20e+01],\n",
       "        [1.06e+03, 3.00e+00, 1.00e+00, 5.30e+01],\n",
       "        [1.18e+03, 2.00e+00, 1.00e+00, 9.90e+01],\n",
       "        [1.36e+03, 2.00e+00, 1.00e+00, 1.70e+01],\n",
       "        [9.60e+02, 3.00e+00, 1.00e+00, 5.10e+01],\n",
       "        [1.46e+03, 3.00e+00, 2.00e+00, 1.60e+01],\n",
       "        [1.45e+03, 3.00e+00, 2.00e+00, 2.50e+01],\n",
       "        [1.21e+03, 2.00e+00, 1.00e+00, 1.50e+01],\n",
       "        [1.55e+03, 3.00e+00, 2.00e+00, 1.60e+01],\n",
       "        [8.82e+02, 3.00e+00, 1.00e+00, 4.90e+01],\n",
       "        [2.03e+03, 4.00e+00, 2.00e+00, 4.50e+01],\n",
       "        [1.04e+03, 3.00e+00, 1.00e+00, 6.20e+01],\n",
       "        [1.62e+03, 3.00e+00, 1.00e+00, 1.60e+01],\n",
       "        [8.03e+02, 2.00e+00, 1.00e+00, 8.00e+01],\n",
       "        [1.43e+03, 3.00e+00, 2.00e+00, 2.10e+01],\n",
       "        [1.66e+03, 3.00e+00, 1.00e+00, 6.10e+01],\n",
       "        [1.54e+03, 3.00e+00, 1.00e+00, 1.60e+01],\n",
       "        [9.48e+02, 3.00e+00, 1.00e+00, 5.30e+01],\n",
       "        [1.22e+03, 2.00e+00, 2.00e+00, 1.20e+01],\n",
       "        [1.43e+03, 2.00e+00, 1.00e+00, 4.30e+01],\n",
       "        [1.66e+03, 3.00e+00, 2.00e+00, 1.90e+01],\n",
       "        [1.21e+03, 3.00e+00, 1.00e+00, 2.00e+01],\n",
       "        [1.05e+03, 2.00e+00, 1.00e+00, 6.50e+01]]),\n",
       " array([300.  , 509.8 , 394.  , 540.  , 415.  , 230.  , 560.  , 294.  ,\n",
       "        718.2 , 200.  , 302.  , 468.  , 374.2 , 388.  , 282.  , 311.8 ,\n",
       "        401.  , 449.8 , 301.  , 502.  , 340.  , 400.28, 572.  , 264.  ,\n",
       "        304.  , 298.  , 219.8 , 490.7 , 216.96, 368.2 , 280.  , 526.87,\n",
       "        237.  , 562.43, 369.8 , 460.  , 374.  , 390.  , 158.  , 426.  ,\n",
       "        390.  , 277.77, 216.96, 425.8 , 504.  , 329.  , 464.  , 220.  ,\n",
       "        358.  , 478.  , 334.  , 426.98, 290.  , 463.  , 390.8 , 354.  ,\n",
       "        350.  , 460.  , 237.  , 288.3 , 282.  , 249.  , 304.  , 332.  ,\n",
       "        351.8 , 310.  , 216.96, 666.34, 330.  , 480.  , 330.3 , 348.  ,\n",
       "        304.  , 384.  , 316.  , 430.4 , 450.  , 284.  , 275.  , 414.  ,\n",
       "        258.  , 378.  , 350.  , 412.  , 373.  , 225.  , 390.  , 267.4 ,\n",
       "        464.  , 174.  , 340.  , 430.  , 440.  , 216.  , 329.  , 388.  ,\n",
       "        390.  , 356.  , 257.8 ]))"
      ]
     },
     "execution_count": 6,
     "metadata": {},
     "output_type": "execute_result"
    }
   ],
   "source": [
    "X_train, y_train"
   ]
  },
  {
   "cell_type": "markdown",
   "id": "ffec10f6-42fe-4225-a157-94faf75fccf6",
   "metadata": {},
   "source": [
    "### Scale/normalize the training data"
   ]
  },
  {
   "cell_type": "code",
   "execution_count": 5,
   "id": "dfd7c01c-eca1-47cd-908e-03eb340deb95",
   "metadata": {},
   "outputs": [
    {
     "name": "stdout",
     "output_type": "stream",
     "text": [
      "Peak to peak range by column in Raw X: [2.41e+03 4.00e+00 1.00e+00 9.50e+01]\n",
      "Peak to peak range by column in Normalied X: [5.85 6.14 2.06 3.69]\n"
     ]
    }
   ],
   "source": [
    "scaler=StandardScaler()\n",
    "X_norm=scaler.fit_transform(X_train)\n",
    "print(f\"Peak to peak range by column in Raw X: {np.ptp(X_train,axis=0)}\")\n",
    "print(f\"Peak to peak range by column in Normalied X: {np.ptp(X_norm,axis=0)}\")"
   ]
  },
  {
   "cell_type": "markdown",
   "id": "b8182dc2-608e-44ed-8fef-9853615ab5b7",
   "metadata": {},
   "source": [
    "### Create and fit the regression model"
   ]
  },
  {
   "cell_type": "code",
   "execution_count": 13,
   "id": "60d0f8b0-7751-4aa6-ad4f-800caef50603",
   "metadata": {},
   "outputs": [
    {
     "name": "stdout",
     "output_type": "stream",
     "text": [
      "SGDRegressor()\n",
      "Number of iterations completed: 122 \n",
      "Number of weight updates: 12079.0\n"
     ]
    }
   ],
   "source": [
    "sgdr=SGDRegressor(max_iter=1000)\n",
    "sgdr.fit(X_norm, y_train)\n",
    "print(sgdr)\n",
    "print(f\"Number of iterations completed: {sgdr.n_iter_} \\nNumber of weight updates: {sgdr.t_}\")"
   ]
  },
  {
   "cell_type": "markdown",
   "id": "cf721769-3827-4f90-9f5c-4a11c4c2075a",
   "metadata": {},
   "source": [
    "### View parameters\n",
    "Note, the parameters are associated with the *normalized* input data."
   ]
  },
  {
   "cell_type": "code",
   "execution_count": 14,
   "id": "7dadb21f-a5ae-45de-a33d-94b0fb69a736",
   "metadata": {},
   "outputs": [
    {
     "name": "stdout",
     "output_type": "stream",
     "text": [
      "Model parameters: \n",
      "w:[110.08 -21.06 -32.48 -38.05] \n",
      "b:[363.16]\n"
     ]
    }
   ],
   "source": [
    "b_norm=sgdr.intercept_\n",
    "w_norm=sgdr.coef_\n",
    "print(f\"Model parameters: \\nw:{w_norm} \\nb:{b_norm}\")"
   ]
  },
  {
   "cell_type": "markdown",
   "id": "d3951e25-38b1-4084-a4b3-abc5ec01f9b1",
   "metadata": {},
   "source": [
    "### Make predictions\n",
    "Predict the targets of the training data. Use both the `predict` routine and compute using $w$ and $b$."
   ]
  },
  {
   "cell_type": "code",
   "execution_count": 18,
   "id": "45e25f92-1899-4e50-ae67-f6a892febf92",
   "metadata": {},
   "outputs": [
    {
     "name": "stdout",
     "output_type": "stream",
     "text": [
      "Prediction using np.dot() and predict() match: True\n",
      "First 4 prediction on training set:\n",
      "[295.22 485.79 389.53 491.96]\n",
      "First 4 target values \n",
      "[300.  509.8 394.  540. ]\n"
     ]
    }
   ],
   "source": [
    "#make prediction using sgdr.predict()\n",
    "y_pred_sgd=sgdr.predict(X_norm)\n",
    "\n",
    "#make prediction using w,b\n",
    "y_pred=np.dot(X_norm, w_norm)+b_norm\n",
    "\n",
    "print(f\"Prediction using np.dot() and predict() match: {(y_pred==y_pred_sgd).all()}\") \n",
    "\n",
    "print(f\"First 4 prediction on training set:\\n{y_pred[:4]}\" )\n",
    "print(f\"First 4 target values \\n{y_train[:4]}\")"
   ]
  },
  {
   "cell_type": "markdown",
   "id": "6ce96ee4-f6e0-46e5-930a-1672839cb39a",
   "metadata": {},
   "source": [
    "### Plot Results"
   ]
  },
  {
   "cell_type": "code",
   "execution_count": 20,
   "id": "5797733f-30d1-46f5-9b24-cd518afb56ff",
   "metadata": {},
   "outputs": [
    {
     "data": {
      "image/png": "[encoded data removed]",
      "text/plain": [
       "<Figure size 1200x300 with 4 Axes>"
      ]
     },
     "metadata": {},
     "output_type": "display_data"
    }
   ],
   "source": [
    "#plot predictions and target vs original features\n",
    "fig, ax=plt.subplots(1,4,figsize=(12,3),sharey=True)\n",
    "for i in range(len(ax)):\n",
    "    ax[i].scatter(X_train[:,i],y_train,label='target')\n",
    "    ax[i].set_xlabel(X_features[i])\n",
    "    ax[i].scatter(X_train[:,i], y_pred, color=dlc[\"dlorange\"], label='predict')\n",
    "ax[0].set_ylabel(\"Price\")\n",
    "ax[0].legend()\n",
    "fig.suptitle(\"Target vs prediction using z-score normalized model\")\n",
    "plt.show()"
   ]
  }
 ],
 "metadata": {
  "kernelspec": {
   "display_name": "Python 3 (ipykernel)",
   "language": "python",
   "name": "python3"
  },
  "language_info": {
   "codemirror_mode": {
    "name": "ipython",
    "version": 3
   },
   "file_extension": ".py",
   "mimetype": "text/x-python",
   "name": "python",
   "nbconvert_exporter": "python",
   "pygments_lexer": "ipython3",
   "version": "3.12.0"
  }
 },
 "nbformat": 4,
 "nbformat_minor": 5
}
