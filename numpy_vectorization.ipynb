{
 "cells": [
  {
   "cell_type": "markdown",
   "id": "a63ed23a-1640-41d7-aa4c-1120acfdffd0",
   "metadata": {},
   "source": [
    "# Python, NumPy and Vectorization"
   ]
  },
  {
   "cell_type": "code",
   "execution_count": 1,
   "id": "e02a7343-bb5a-4e55-a5af-2c952e87c337",
   "metadata": {},
   "outputs": [],
   "source": [
    "import numpy as np\n",
    "import time"
   ]
  },
  {
   "cell_type": "markdown",
   "id": "bd214dd7-4f04-42c0-be9d-29082a426ebc",
   "metadata": {},
   "source": [
    "NumPy is a library that extends the base capabilities of python to add a richer data set including more numeric types, vectors, matrices, and many matrix functions. NumPy and python  work together fairly seamlessly. Python arithmetic operators work on NumPy data types and many NumPy functions will accept python data types."
   ]
  },
  {
   "cell_type": "markdown",
   "id": "cc14edfe-76cb-4b2b-9ca5-19975b4c3fdd",
   "metadata": {},
   "source": [
    "# 1. Vectors"
   ]
  },
  {
   "cell_type": "markdown",
   "id": "9c53f4a0-dd21-48c0-af43-e273119e154f",
   "metadata": {},
   "source": [
    "Vectors are ordered arrays of numbers. In notation, vectors are denoted with lower case bold letters such as $\\mathbf{x}$.  The elements of a vector are all the **same type**. A vector does not, for example, contain both characters and numbers. The number of elements in the array is often referred to as the *dimension* though mathematicians may prefer *rank*. The vector shown has a dimension of $n$. The elements of a vector can be referenced with an index. In math settings, indexes typically run from 1 to n. In computer science, indexing will typically run from 0 to n-1.  In notation, elements of a vector, when referenced individually will indicate the index in a subscript, for example, the $0^{th}$ element, of the vector $\\mathbf{x}$ is $x_0$. Note, the x is not bold in this case.  "
   ]
  },
  {
   "cell_type": "markdown",
   "id": "13ea0943-ec05-44f1-9253-33fa949fccb4",
   "metadata": {},
   "source": [
    "NumPy's basic data structure is an indexable, n-dimensional *array* containing elements of the same type (`dtype`). Right away, you may notice we have overloaded the term 'dimension'. Above, it was the number of elements in the vector, here, dimension refers to the number of indexes of an array. A one-dimensional or 1-D array has one index.\n",
    " - 1-D array, shape (n,): n elements indexed [0] through [n-1]"
   ]
  },
  {
   "cell_type": "markdown",
   "id": "bb3dd716-8d5c-445a-a22d-67f031bea389",
   "metadata": {},
   "source": [
    "Data creation routines in NumPy will generally have a first parameter which is the shape of the object. This can either be a single value for a 1-D result or a tuple (n,m,...) specifying the shape of the result. Below are examples of creating vectors using these routines."
   ]
  },
  {
   "cell_type": "code",
   "execution_count": 2,
   "id": "1eb633f4-fff2-4ede-9374-9aa79a426f3d",
   "metadata": {},
   "outputs": [
    {
     "name": "stdout",
     "output_type": "stream",
     "text": [
      "np.zeros(4): a=[0. 0. 0. 0.], a shape=(4,), a data type=float64\n",
      "np.zeros((4,)): a=[0. 0. 0. 0.], a shape=(4,), a data type=float64\n",
      "np.random.random_sample(4): a=[0.13532984 0.27191608 0.73986321 0.06795245], a shape=(4,), a data type=float64\n"
     ]
    }
   ],
   "source": [
    "#Numpy routines which allocate memory and fill arrays with value\n",
    "a=np.zeros(4)\n",
    "print(f\"np.zeros(4): a={a}, a shape={a.shape}, a data type={a.dtype}\")\n",
    "a=np.zeros((4,))\n",
    "print(f\"np.zeros((4,)): a={a}, a shape={a.shape}, a data type={a.dtype}\")\n",
    "a=np.random.random_sample(4)\n",
    "print(f\"np.random.random_sample(4): a={a}, a shape={a.shape}, a data type={a.dtype}\")"
   ]
  },
  {
   "cell_type": "markdown",
   "id": "ca49d17d-e08a-4b42-9f1d-e0caac8030ea",
   "metadata": {},
   "source": [
    "Some data creation routines do not take a shape tuple:"
   ]
  },
  {
   "cell_type": "code",
   "execution_count": 3,
   "id": "07398df9-c584-4984-9160-534a77035cfe",
   "metadata": {},
   "outputs": [
    {
     "name": "stdout",
     "output_type": "stream",
     "text": [
      "np.arange(4.): a=[0. 1. 2. 3.], a shape=(4,), a data type=float64\n",
      "np.random.rand(4): a=[0.85042586 0.79483134 0.8702145  0.91408718], a shape=(4,), a data type=float64\n"
     ]
    }
   ],
   "source": [
    "#Numpy routines which allocate memory and fill arrays with value but do not accept shape as input argument\n",
    "a=np.arange(4.)\n",
    "print(f\"np.arange(4.): a={a}, a shape={a.shape}, a data type={a.dtype}\")\n",
    "a=np.random.rand(4)\n",
    "print(f\"np.random.rand(4): a={a}, a shape={a.shape}, a data type={a.dtype}\")"
   ]
  },
  {
   "cell_type": "markdown",
   "id": "8414bbed-02bc-475d-be07-6187feb9f760",
   "metadata": {},
   "source": [
    "Values can be specified manually as well:"
   ]
  },
  {
   "cell_type": "code",
   "execution_count": 4,
   "id": "08332e22-8216-46f8-a172-3dc18560faaf",
   "metadata": {},
   "outputs": [
    {
     "name": "stdout",
     "output_type": "stream",
     "text": [
      "np.array([5,4,3,2]): a=[5 4 3 2], a shape=(4,), a data type=int32\n",
      "np.array([5.,4,3,2]): a=[5. 4. 3. 2.], a shape=(4,), a data type=float64\n"
     ]
    }
   ],
   "source": [
    "#Numpy routines which allocate memory and fill with user specified values\n",
    "a=np.array([5,4,3,2])\n",
    "print(f\"np.array([5,4,3,2]): a={a}, a shape={a.shape}, a data type={a.dtype}\")\n",
    "a=np.array([5.,4,3,2])\n",
    "print(f\"np.array([5.,4,3,2]): a={a}, a shape={a.shape}, a data type={a.dtype}\")"
   ]
  },
  {
   "cell_type": "markdown",
   "id": "18f5ab34-8c1b-429d-a9c7-40d9454bf880",
   "metadata": {},
   "source": [
    "These have all created a one-dimensional vector  `a` with four elements. `a.shape` returns the dimensions. Here we see a.shape = `(4,)` indicating a 1-d array with 4 elements.  "
   ]
  },
  {
   "cell_type": "markdown",
   "id": "dd710d07-8ea7-48fa-a6ff-69b4162c0cc1",
   "metadata": {},
   "source": [
    "# 2.Operations on Vectors\n",
    "## 2.1. Indexing\n",
    "Elements of vectors can be accessed via indexing and slicing. NumPy provides a very complete set of indexing and slicing capabilities. Reference [Slicing and Indexing](https://NumPy.org/doc/stable/reference/arrays.indexing.html) for more details.  \n",
    "- **Indexing** means referring to *an element* of an array by its position within the array.  \n",
    "- **Slicing** means getting a *subset* of elements from an array based on their indices.  \n",
    "\n",
    "NumPy starts indexing at zero so the 3rd element of an vector $\\mathbf{a}$ is `a[2]`."
   ]
  },
  {
   "cell_type": "code",
   "execution_count": 6,
   "id": "4b19ba94-cf1b-4e48-b082-98716797057d",
   "metadata": {},
   "outputs": [
    {
     "name": "stdout",
     "output_type": "stream",
     "text": [
      "[0 1 2 3 4 5 6 7 8 9]\n",
      "a[2].shape:() a[2]:2, Accessing an element returns a scalar\n",
      "a[-1]:9\n",
      "The error is: index 10 is out of bounds for axis 0 with size 10\n"
     ]
    }
   ],
   "source": [
    "#vector indexing operations on 1-D vectors\n",
    "a=np.arange(10)\n",
    "print(a)\n",
    "\n",
    "#access an element\n",
    "print(f\"a[2].shape:{a[2].shape} a[2]:{a[2]}, Accessing an element returns a scalar\")\n",
    "\n",
    "#access the last elementi megativr indexes count from the end\n",
    "print(f\"a[-1]:{a[-1]}\")\n",
    "\n",
    "#indexs must be within the range of the vector or they will produce an error\n",
    "try: \n",
    "    c=a[10]\n",
    "except Exception as e:\n",
    "    print(\"The error is:\", e)"
   ]
  },
  {
   "cell_type": "markdown",
   "id": "a9fd323d-6d82-4cae-8d3d-b134dcdfaa1d",
   "metadata": {},
   "source": [
    "## 2.2. Slicing\n",
    "Slicing creates an array of indices using a set of three values (`start:stop:step`). A subset of values is also valid. Its use is best explained by example:"
   ]
  },
  {
   "cell_type": "code",
   "execution_count": 7,
   "id": "e7566cba-cee3-4c0d-ad22-5771a3d13ca7",
   "metadata": {},
   "outputs": [
    {
     "name": "stdout",
     "output_type": "stream",
     "text": [
      "a=[0 1 2 3 4 5 6 7 8 9]\n",
      "a[2:7:1]=[2 3 4 5 6]\n",
      "a[2:7:2]=[2 4 6]\n",
      "a[3:]=[3 4 5 6 7 8 9]\n",
      "a[:3]=[0 1 2]\n",
      "a[:]=[0 1 2 3 4 5 6 7 8 9]\n"
     ]
    }
   ],
   "source": [
    "#vector slicing operations\n",
    "a=np.arange(10)\n",
    "print(f\"a={a}\")\n",
    "\n",
    "#access 5 consecutive elements (start:stop:step)\n",
    "c=a[2:7:1]\n",
    "print(f\"a[2:7:1]={c}\")\n",
    "\n",
    "#access 3 elements separated by two\n",
    "c=a[2:7:2]\n",
    "print(f\"a[2:7:2]={c}\")\n",
    "\n",
    "#access all elements index 3 and above\n",
    "c=a[3:]\n",
    "print(f\"a[3:]={c}\")\n",
    "\n",
    "#access all elements below index 3\n",
    "c=a[:3]\n",
    "print(f\"a[:3]={c}\")\n",
    "\n",
    "#access all elements\n",
    "c=a[:]\n",
    "print(f\"a[:]={c}\")"
   ]
  },
  {
   "cell_type": "markdown",
   "id": "011d644e-124d-40e5-97d9-c6e26764984a",
   "metadata": {},
   "source": [
    "## 2.3. Single Vector Operations"
   ]
  },
  {
   "cell_type": "code",
   "execution_count": 10,
   "id": "45a20a6d-051b-461a-bf96-cf5ed3e38605",
   "metadata": {},
   "outputs": [
    {
     "name": "stdout",
     "output_type": "stream",
     "text": [
      "a: [1 2 3 4]\n",
      "(b=-a): [-1 -2 -3 -4]\n",
      "b=np.sum(a): 10\n",
      "b=np.mean(a): 2.5\n",
      "b=a**2: [ 1  4  9 16]\n"
     ]
    }
   ],
   "source": [
    "a=np.array([1,2,3,4])\n",
    "print(f\"a: {a}\")\n",
    "\n",
    "#negate elements of a\n",
    "b=-a\n",
    "print(f\"(b=-a): {b}\")\n",
    "\n",
    "#sum all elements of ai returns a scalar\n",
    "b=np.sum(a)\n",
    "print(f\"b=np.sum(a): {b}\")\n",
    "\n",
    "b=np.mean(a)\n",
    "print(f\"b=np.mean(a): {b}\")\n",
    "\n",
    "b=a**2\n",
    "print(f\"b=a**2: {b}\")"
   ]
  },
  {
   "cell_type": "markdown",
   "id": "11d6238d-6d60-43cd-bcde-471de77be3ea",
   "metadata": {},
   "source": [
    "## 2.4. Vector - Vector Element Wise Operations\n",
    "Most of the NumPy arithmetic, logical and comparison operations apply to vectors as well. These operators work on an element-by-element basis. For example \n",
    "$$ c_i = a_i + b_i $$"
   ]
  },
  {
   "cell_type": "code",
   "execution_count": 20,
   "id": "7ee88e16-e672-4da1-90d6-cc70e283259f",
   "metadata": {},
   "outputs": [
    {
     "name": "stdout",
     "output_type": "stream",
     "text": [
      "Binary operators work element wise: [0 0 6 8]\n",
      "Binary operators work element wise: [-1 -4  9 16]\n",
      "Binary operators work element wise: [2 4 0 0]\n"
     ]
    }
   ],
   "source": [
    "a=np.array([1,2,3,4])\n",
    "b=np.array([-1,-2, 3,4])\n",
    "print(f\"Binary operators work element wise: {a+b}\")\n",
    "print(f\"Binary operators work element wise: {a*b}\")\n",
    "print(f\"Binary operators work element wise: {a-b}\")"
   ]
  },
  {
   "cell_type": "markdown",
   "id": "8ae8268c-4a9a-468e-b052-90f2e5b5381d",
   "metadata": {},
   "source": [
    "The vectors must be of the **same size**:"
   ]
  },
  {
   "cell_type": "code",
   "execution_count": 19,
   "id": "29f158c7-cdba-4590-82ef-712e1c8ff01c",
   "metadata": {},
   "outputs": [
    {
     "name": "stdout",
     "output_type": "stream",
     "text": [
      "The error is: operands could not be broadcast together with shapes (4,) (2,) \n"
     ]
    }
   ],
   "source": [
    "c=np.array([1,2])\n",
    "\n",
    "try:\n",
    "    d=a*c\n",
    "except Exception as e:\n",
    "    print(\"The error is:\", e)"
   ]
  },
  {
   "cell_type": "markdown",
   "id": "4562a368-9b14-4e73-9d4c-75839d7885ed",
   "metadata": {},
   "source": [
    "## 2.5. Scalar Vector Operations\n",
    "Vectors can be 'scaled' by scalar values. A scalar value is just a number. The scalar multiplies all the elements of the vector."
   ]
  },
  {
   "cell_type": "code",
   "execution_count": 23,
   "id": "ad51ae6c-e657-42d9-b83b-9fd2e8620c10",
   "metadata": {},
   "outputs": [
    {
     "name": "stdout",
     "output_type": "stream",
     "text": [
      "(b=5*a): [ 5 10 15 20]\n"
     ]
    }
   ],
   "source": [
    "a=np.array([1,2,3,4])\n",
    "\n",
    "#multiply by a scalar\n",
    "b=5*a\n",
    "print(f\"(b=5*a): {b}\")"
   ]
  },
  {
   "cell_type": "markdown",
   "id": "9070e3c4-d6d3-44eb-8a86-6802b4103a86",
   "metadata": {},
   "source": [
    "## 2.6. Vector - Vector Dot Product\n",
    "The dot product is a mainstay of Linear Algebra and NumPy. The dot product multiplies the values in two vectors element-wise and then sums the result. Vector dot product requires **the dimensions of the two vectors to be the same**. \n",
    "\n",
    "Let's implement our own version of the dot product below:\n",
    "\n",
    "**Using a for loop**, implement a function which returns the dot product of two vectors. The function to return given inputs $a$ and $b$:\n",
    "$$ x = \\sum_{i=0}^{n-1} a_i b_i $$\n",
    "Assume both `a` and `b` are the same shape."
   ]
  },
  {
   "cell_type": "code",
   "execution_count": 25,
   "id": "51e30e78-4ff5-43ca-851b-3986562a483c",
   "metadata": {},
   "outputs": [],
   "source": [
    "def dot_product(a,b):\n",
    "    x=0\n",
    "    for i in range(a.shape[0]):\n",
    "        x=x+a[i]*b[i]\n",
    "    return x"
   ]
  },
  {
   "cell_type": "code",
   "execution_count": 27,
   "id": "ed60803f-45ae-4245-b2fe-0a986189cb32",
   "metadata": {},
   "outputs": [
    {
     "name": "stdout",
     "output_type": "stream",
     "text": [
      "dot_product(a,b): 24\n"
     ]
    }
   ],
   "source": [
    "#testing with 1-D array\n",
    "a=np.array([1,2,3,4])\n",
    "b=np.array([-1,4,3,2])\n",
    "print(f\"dot_product(a,b): {dot_product(a,b)}\")"
   ]
  },
  {
   "cell_type": "markdown",
   "id": "7c835cf7-d772-44f8-a896-98f1a2b25795",
   "metadata": {},
   "source": [
    "Note, the dot product is expected to return a scalar value. \n",
    "\n",
    "Let's try the same operations using `np.dot`.  "
   ]
  },
  {
   "cell_type": "code",
   "execution_count": 29,
   "id": "07697b6d-b7e2-4f99-a496-ffdcd53c1d3d",
   "metadata": {},
   "outputs": [
    {
     "name": "stdout",
     "output_type": "stream",
     "text": [
      "NumPy 1-D np.dot(a, b) = 24, np.dot(a, b).shape = () \n",
      "NumPy 1-D np.dot(b, a) = 24, np.dot(a, b).shape = () \n"
     ]
    }
   ],
   "source": [
    "#testing with 1-D array\n",
    "a=np.array([1,2,3,4])\n",
    "b=np.array([-1,4,3,2])\n",
    "c=np.dot(a,b)\n",
    "print(f\"NumPy 1-D np.dot(a, b) = {c}, np.dot(a, b).shape = {c.shape} \") \n",
    "c = np.dot(b, a)\n",
    "print(f\"NumPy 1-D np.dot(b, a) = {c}, np.dot(a, b).shape = {c.shape} \")"
   ]
  },
  {
   "cell_type": "markdown",
   "id": "5d73601d-5e55-4993-b366-132785bac020",
   "metadata": {},
   "source": [
    "Above, you will note that the results for 1-D matched our implementation."
   ]
  },
  {
   "cell_type": "markdown",
   "id": "46fa82aa-0a9d-495e-872a-f463d774c787",
   "metadata": {},
   "source": [
    "## 2.7. The Need for Speed: Vector vs For Loop\n",
    "We utilized the NumPy  library because it improves speed memory efficiency. Let's demonstrate:"
   ]
  },
  {
   "cell_type": "code",
   "execution_count": 32,
   "id": "9c59aa0e-22cd-427d-8d52-bbdfadd1bef0",
   "metadata": {},
   "outputs": [
    {
     "name": "stdout",
     "output_type": "stream",
     "text": [
      "np.dot(a,b)=2501072.5817\n",
      "Vectorized version duration: 9.0017 ms\n",
      "np.dot_product(a,b)=2501072.5817\n",
      "Loop version duration: 2651.0341 ms\n"
     ]
    }
   ],
   "source": [
    "np.random.seed(1)\n",
    "a=np.random.rand(10000000)\n",
    "b=np.random.rand(10000000)\n",
    "\n",
    "start=time.time() #capture start time\n",
    "c=np.dot(a,b)\n",
    "end=time.time() #capture end time\n",
    "\n",
    "print(f\"np.dot(a,b)={c:.4f}\")\n",
    "print(f\"Vectorized version duration: {1000*(end-start):.4f} ms\")\n",
    "\n",
    "start=time.time() #capture start time\n",
    "c=dot_product(a,b)\n",
    "end=time.time() #capture end time\n",
    "\n",
    "print(f\"np.dot_product(a,b)={c:.4f}\")\n",
    "print(f\"Loop version duration: {1000*(end-start):.4f} ms\")\n",
    "\n",
    "del(a)\n",
    "del(b)"
   ]
  },
  {
   "cell_type": "markdown",
   "id": "738ee374-2e19-4b8e-a1fc-0991102e0a27",
   "metadata": {},
   "source": [
    "So, vectorization provides a large speed up in this example. This is because NumPy makes better use of available data parallelism in the underlying hardware. GPU's and modern CPU's implement Single Instruction, Multiple Data (SIMD) pipelines allowing multiple operations to be issued in parallel. This is critical in Machine Learning where the data sets are often very large."
   ]
  },
  {
   "cell_type": "markdown",
   "id": "1b26ba35-dc34-4f7a-9491-6cfc5f55c87a",
   "metadata": {},
   "source": [
    "# 3. Matrices"
   ]
  },
  {
   "cell_type": "markdown",
   "id": "19bec3a1-7b8e-47c6-b5b8-3c6704c4cb3e",
   "metadata": {},
   "source": [
    "Matrices, are two dimensional arrays. The elements of a matrix are all of the same type. In notation, matrices are denoted with capitol, bold letter such as $\\mathbf{X}$. In this notebook, `m` is often the number of rows and `n` the number of columns. The elements of a matrix can be referenced with a two dimensional index. In math settings, numbers in the index typically run from 1 to n. In computer science , indexing will run from 0 to n-1. In generic matrix notation, 1st index is row, 2nd is column"
   ]
  },
  {
   "cell_type": "markdown",
   "id": "8310bd77-a17d-44a9-ae36-da57ff9fb3c9",
   "metadata": {},
   "source": [
    "NumPy's basic data structure is an indexable, n-dimensional *array* containing elements of the same type (`dtype`). These were described earlier. Matrices have a two-dimensional (2-D) index [m,n]. Below you will review: \n",
    "- data creation\n",
    "- slicing and indexing"
   ]
  },
  {
   "cell_type": "markdown",
   "id": "7ced5261-5910-42ef-b84b-6936737bf5a5",
   "metadata": {},
   "source": [
    "The same functions that created 1-D vectors will create 2-D or n-D arrays. Here are some examples. Below, the shape tuple is provided to achieve a 2-D result. Notice how NumPy uses brackets to denote each dimension. Notice further than NumPy, when printing, will print one row per line."
   ]
  },
  {
   "cell_type": "code",
   "execution_count": 34,
   "id": "1f426099-e679-43a8-9976-5cf24dffd0c8",
   "metadata": {},
   "outputs": [
    {
     "name": "stdout",
     "output_type": "stream",
     "text": [
      "a shape=(1, 5), a=[[0. 0. 0. 0. 0.]]\n",
      "a shape=(2, 2), a=[[0. 0.]\n",
      " [0. 0.]]\n",
      "a shape=(1, 1), a=[[0.04997798]]\n"
     ]
    }
   ],
   "source": [
    "a=np.zeros((1,5))\n",
    "print(f\"a shape={a.shape}, a={a}\")\n",
    "\n",
    "a=np.zeros((2,2))\n",
    "print(f\"a shape={a.shape}, a={a}\")\n",
    "\n",
    "a=np.random.random_sample((1,1))\n",
    "print(f\"a shape={a.shape}, a={a}\")"
   ]
  },
  {
   "cell_type": "markdown",
   "id": "3ae1adb5-7bb3-4562-bc10-5e7e1c9132c2",
   "metadata": {},
   "source": [
    "One can also manually specify data. Dimensions are specified with additional brackets matching the format in the printing above."
   ]
  },
  {
   "cell_type": "code",
   "execution_count": 35,
   "id": "9a20007f-3b61-40d4-9b4c-31eb28228310",
   "metadata": {},
   "outputs": [
    {
     "name": "stdout",
     "output_type": "stream",
     "text": [
      " a shape = (3, 1), np.array: a = [[5]\n",
      " [4]\n",
      " [3]]\n",
      " a shape = (3, 1), np.array: a = [[5]\n",
      " [4]\n",
      " [3]]\n"
     ]
    }
   ],
   "source": [
    "# NumPy routines which allocate memory and fill with user specified values\n",
    "a = np.array([[5], [4], [3]])\n",
    "print(f\" a shape = {a.shape}, np.array: a = {a}\")\n",
    "a = np.array([[5],   # One can also\n",
    "              [4],   # separate values\n",
    "              [3]]) #into separate rows\n",
    "print(f\" a shape = {a.shape}, np.array: a = {a}\")"
   ]
  },
  {
   "cell_type": "markdown",
   "id": "40373ed9-143e-4d3f-898c-c3b95e870828",
   "metadata": {},
   "source": [
    "# 4.Operations on Vectors\n",
    "## 4.1. Indexing\n",
    "Matrices include a second index. The two indexes describe [row, column]. Access can either return an element or a row/column. See below:"
   ]
  },
  {
   "cell_type": "code",
   "execution_count": 36,
   "id": "dcdf1c53-9018-45b2-b87f-74a5e7fdb7df",
   "metadata": {},
   "outputs": [
    {
     "name": "stdout",
     "output_type": "stream",
     "text": [
      "a.shape: (3, 2), \n",
      "a= [[0 1]\n",
      " [2 3]\n",
      " [4 5]]\n",
      "\n",
      "a[2,0].shape:   (), a[2,0] = 4,     type(a[2,0]) = <class 'numpy.int32'> Accessing an element returns a scalar\n",
      "\n",
      "a[2].shape:   (2,), a[2]   = [4 5], type(a[2])   = <class 'numpy.ndarray'>\n"
     ]
    }
   ],
   "source": [
    "#vector indexing operations on matrices\n",
    "a = np.arange(6).reshape(-1, 2)   #reshape is a convenient way to create matrices\n",
    "print(f\"a.shape: {a.shape}, \\na= {a}\")\n",
    "\n",
    "#access an element\n",
    "print(f\"\\na[2,0].shape:   {a[2, 0].shape}, a[2,0] = {a[2, 0]},     type(a[2,0]) = {type(a[2, 0])} Accessing an element returns a scalar\\n\")\n",
    "\n",
    "#access a row\n",
    "print(f\"a[2].shape:   {a[2].shape}, a[2]   = {a[2]}, type(a[2])   = {type(a[2])}\")"
   ]
  },
  {
   "cell_type": "markdown",
   "id": "568074f3-fabb-491e-a758-aa2dcde80ffe",
   "metadata": {},
   "source": [
    "Accessing a matrix by just specifying the row will return a *1-D vector*.\n",
    "\n",
    "**Reshape**  \n",
    "The previous example used [reshape](https://numpy.org/doc/stable/reference/generated/numpy.reshape.html) to shape the array.  \n",
    "`a = np.arange(6).reshape(-1, 2) `   \n",
    "This line of code first created a *1-D Vector* of six elements. It then reshaped that vector into a *2-D* array using the reshape command. This could have been written:  \n",
    "`a = np.arange(6).reshape(3, 2) `  \n",
    "To arrive at the same 3 row, 2 column array.\n",
    "The -1 argument tells the routine to compute the number of rows given the size of the array and the number of columns.\n"
   ]
  },
  {
   "cell_type": "markdown",
   "id": "4dcf98f8-dc82-45c8-867b-dd1c0660b31f",
   "metadata": {},
   "source": [
    "## 4.2 Slicing\n",
    "Slicing creates an array of indices using a set of three values (`start:stop:step`). A subset of values is also valid. Its use is best explained by example:"
   ]
  },
  {
   "cell_type": "code",
   "execution_count": 38,
   "id": "c8636688-c2cd-4745-86bf-d2d7b22980b9",
   "metadata": {},
   "outputs": [
    {
     "name": "stdout",
     "output_type": "stream",
     "text": [
      "a = \n",
      "[[ 0  1  2  3  4  5  6  7  8  9]\n",
      " [10 11 12 13 14 15 16 17 18 19]]\n",
      "a[0, 2:7:1] =  [2 3 4 5 6] ,  a[0, 2:7:1].shape = (5,) a 1-D array\n",
      "a[:, 2:7:1] = \n",
      " [[ 2  3  4  5  6]\n",
      " [12 13 14 15 16]] ,  a[:, 2:7:1].shape = (2, 5) a 2-D array\n",
      "a[:,:] = \n",
      " [[ 0  1  2  3  4  5  6  7  8  9]\n",
      " [10 11 12 13 14 15 16 17 18 19]] ,  a[:,:].shape = (2, 10)\n",
      "a[1,:] =  [10 11 12 13 14 15 16 17 18 19] ,  a[1,:].shape = (10,) a 1-D array\n",
      "a[1]   =  [10 11 12 13 14 15 16 17 18 19] ,  a[1].shape   = (10,) a 1-D array\n"
     ]
    }
   ],
   "source": [
    "#vector 2-D slicing operations\n",
    "a = np.arange(20).reshape(-1, 10)\n",
    "print(f\"a = \\n{a}\")\n",
    "\n",
    "#access 5 consecutive elements (start:stop:step)\n",
    "print(\"a[0, 2:7:1] = \", a[0, 2:7:1], \",  a[0, 2:7:1].shape =\", a[0, 2:7:1].shape, \"a 1-D array\")\n",
    "\n",
    "#access 5 consecutive elements (start:stop:step) in two rows\n",
    "print(\"a[:, 2:7:1] = \\n\", a[:, 2:7:1], \",  a[:, 2:7:1].shape =\", a[:, 2:7:1].shape, \"a 2-D array\")\n",
    "\n",
    "# access all elements\n",
    "print(\"a[:,:] = \\n\", a[:,:], \",  a[:,:].shape =\", a[:,:].shape)\n",
    "\n",
    "# access all elements in one row (very common usage)\n",
    "print(\"a[1,:] = \", a[1,:], \",  a[1,:].shape =\", a[1,:].shape, \"a 1-D array\")\n",
    "print(\"a[1]   = \", a[1],   \",  a[1].shape   =\", a[1].shape, \"a 1-D array\")\n"
   ]
  }
 ],
 "metadata": {
  "kernelspec": {
   "display_name": "Python 3 (ipykernel)",
   "language": "python",
   "name": "python3"
  },
  "language_info": {
   "codemirror_mode": {
    "name": "ipython",
    "version": 3
   },
   "file_extension": ".py",
   "mimetype": "text/x-python",
   "name": "python",
   "nbconvert_exporter": "python",
   "pygments_lexer": "ipython3",
   "version": "3.12.0"
  }
 },
 "nbformat": 4,
 "nbformat_minor": 5
}
